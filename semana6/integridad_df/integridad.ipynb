{
 "cells": [
  {
   "cell_type": "code",
   "execution_count": 1,
   "metadata": {},
   "outputs": [],
   "source": [
    "import urllib.request\n",
    "import pandas as pd\n",
    "import missingno as msno"
   ]
  },
  {
   "cell_type": "code",
   "execution_count": 3,
   "metadata": {},
   "outputs": [],
   "source": [
    "url = 'https://s3-api.us-geo.objectstorage.softlayer.net/cf-courses-data/CognitiveClass/ML0101ENv3/labs/cars_clus.csv'\n",
    "filename = 'cars_clus.csv'\n",
    "df = urllib.request.urlretrieve(url, filename)\n",
    "data_frame = pd.read_csv(filename,na_values = \"$null$\")\n"
   ]
  },
  {
   "cell_type": "code",
   "execution_count": 4,
   "metadata": {},
   "outputs": [
    {
     "data": {
      "text/html": [
       "<div>\n",
       "<style scoped>\n",
       "    .dataframe tbody tr th:only-of-type {\n",
       "        vertical-align: middle;\n",
       "    }\n",
       "\n",
       "    .dataframe tbody tr th {\n",
       "        vertical-align: top;\n",
       "    }\n",
       "\n",
       "    .dataframe thead th {\n",
       "        text-align: right;\n",
       "    }\n",
       "</style>\n",
       "<table border=\"1\" class=\"dataframe\">\n",
       "  <thead>\n",
       "    <tr style=\"text-align: right;\">\n",
       "      <th></th>\n",
       "      <th>manufact</th>\n",
       "      <th>model</th>\n",
       "      <th>sales</th>\n",
       "      <th>resale</th>\n",
       "      <th>type</th>\n",
       "      <th>price</th>\n",
       "      <th>engine_s</th>\n",
       "      <th>horsepow</th>\n",
       "      <th>wheelbas</th>\n",
       "      <th>width</th>\n",
       "      <th>length</th>\n",
       "      <th>curb_wgt</th>\n",
       "      <th>fuel_cap</th>\n",
       "      <th>mpg</th>\n",
       "      <th>lnsales</th>\n",
       "      <th>partition</th>\n",
       "    </tr>\n",
       "  </thead>\n",
       "  <tbody>\n",
       "    <tr>\n",
       "      <th>0</th>\n",
       "      <td>Acura</td>\n",
       "      <td>Integra</td>\n",
       "      <td>16.919</td>\n",
       "      <td>16.360</td>\n",
       "      <td>0.0</td>\n",
       "      <td>21.50</td>\n",
       "      <td>1.8</td>\n",
       "      <td>140.0</td>\n",
       "      <td>101.2</td>\n",
       "      <td>67.3</td>\n",
       "      <td>172.4</td>\n",
       "      <td>2.639</td>\n",
       "      <td>13.2</td>\n",
       "      <td>28.0</td>\n",
       "      <td>2.828</td>\n",
       "      <td>0.0</td>\n",
       "    </tr>\n",
       "    <tr>\n",
       "      <th>1</th>\n",
       "      <td>Acura</td>\n",
       "      <td>TL</td>\n",
       "      <td>39.384</td>\n",
       "      <td>19.875</td>\n",
       "      <td>0.0</td>\n",
       "      <td>28.40</td>\n",
       "      <td>3.2</td>\n",
       "      <td>225.0</td>\n",
       "      <td>108.1</td>\n",
       "      <td>70.3</td>\n",
       "      <td>192.9</td>\n",
       "      <td>3.517</td>\n",
       "      <td>17.2</td>\n",
       "      <td>25.0</td>\n",
       "      <td>3.673</td>\n",
       "      <td>0.0</td>\n",
       "    </tr>\n",
       "    <tr>\n",
       "      <th>2</th>\n",
       "      <td>Acura</td>\n",
       "      <td>CL</td>\n",
       "      <td>14.114</td>\n",
       "      <td>18.225</td>\n",
       "      <td>0.0</td>\n",
       "      <td>NaN</td>\n",
       "      <td>3.2</td>\n",
       "      <td>225.0</td>\n",
       "      <td>106.9</td>\n",
       "      <td>70.6</td>\n",
       "      <td>192.0</td>\n",
       "      <td>3.470</td>\n",
       "      <td>17.2</td>\n",
       "      <td>26.0</td>\n",
       "      <td>2.647</td>\n",
       "      <td>0.0</td>\n",
       "    </tr>\n",
       "    <tr>\n",
       "      <th>3</th>\n",
       "      <td>Acura</td>\n",
       "      <td>RL</td>\n",
       "      <td>8.588</td>\n",
       "      <td>29.725</td>\n",
       "      <td>0.0</td>\n",
       "      <td>42.00</td>\n",
       "      <td>3.5</td>\n",
       "      <td>210.0</td>\n",
       "      <td>114.6</td>\n",
       "      <td>71.4</td>\n",
       "      <td>196.6</td>\n",
       "      <td>3.850</td>\n",
       "      <td>18.0</td>\n",
       "      <td>22.0</td>\n",
       "      <td>2.150</td>\n",
       "      <td>0.0</td>\n",
       "    </tr>\n",
       "    <tr>\n",
       "      <th>4</th>\n",
       "      <td>Audi</td>\n",
       "      <td>A4</td>\n",
       "      <td>20.397</td>\n",
       "      <td>22.255</td>\n",
       "      <td>0.0</td>\n",
       "      <td>23.99</td>\n",
       "      <td>1.8</td>\n",
       "      <td>150.0</td>\n",
       "      <td>102.6</td>\n",
       "      <td>68.2</td>\n",
       "      <td>178.0</td>\n",
       "      <td>2.998</td>\n",
       "      <td>16.4</td>\n",
       "      <td>27.0</td>\n",
       "      <td>3.015</td>\n",
       "      <td>0.0</td>\n",
       "    </tr>\n",
       "    <tr>\n",
       "      <th>...</th>\n",
       "      <td>...</td>\n",
       "      <td>...</td>\n",
       "      <td>...</td>\n",
       "      <td>...</td>\n",
       "      <td>...</td>\n",
       "      <td>...</td>\n",
       "      <td>...</td>\n",
       "      <td>...</td>\n",
       "      <td>...</td>\n",
       "      <td>...</td>\n",
       "      <td>...</td>\n",
       "      <td>...</td>\n",
       "      <td>...</td>\n",
       "      <td>...</td>\n",
       "      <td>...</td>\n",
       "      <td>...</td>\n",
       "    </tr>\n",
       "    <tr>\n",
       "      <th>154</th>\n",
       "      <td>Volvo</td>\n",
       "      <td>V70</td>\n",
       "      <td>17.531</td>\n",
       "      <td>NaN</td>\n",
       "      <td>0.0</td>\n",
       "      <td>28.80</td>\n",
       "      <td>2.4</td>\n",
       "      <td>168.0</td>\n",
       "      <td>104.9</td>\n",
       "      <td>69.3</td>\n",
       "      <td>186.2</td>\n",
       "      <td>3.259</td>\n",
       "      <td>17.9</td>\n",
       "      <td>25.0</td>\n",
       "      <td>2.864</td>\n",
       "      <td>0.0</td>\n",
       "    </tr>\n",
       "    <tr>\n",
       "      <th>155</th>\n",
       "      <td>Volvo</td>\n",
       "      <td>C70</td>\n",
       "      <td>3.493</td>\n",
       "      <td>NaN</td>\n",
       "      <td>0.0</td>\n",
       "      <td>45.50</td>\n",
       "      <td>2.3</td>\n",
       "      <td>236.0</td>\n",
       "      <td>104.9</td>\n",
       "      <td>71.5</td>\n",
       "      <td>185.7</td>\n",
       "      <td>3.601</td>\n",
       "      <td>18.5</td>\n",
       "      <td>23.0</td>\n",
       "      <td>1.251</td>\n",
       "      <td>0.0</td>\n",
       "    </tr>\n",
       "    <tr>\n",
       "      <th>156</th>\n",
       "      <td>Volvo</td>\n",
       "      <td>S80</td>\n",
       "      <td>18.969</td>\n",
       "      <td>NaN</td>\n",
       "      <td>0.0</td>\n",
       "      <td>36.00</td>\n",
       "      <td>2.9</td>\n",
       "      <td>201.0</td>\n",
       "      <td>109.9</td>\n",
       "      <td>72.1</td>\n",
       "      <td>189.8</td>\n",
       "      <td>3.600</td>\n",
       "      <td>21.1</td>\n",
       "      <td>24.0</td>\n",
       "      <td>2.943</td>\n",
       "      <td>0.0</td>\n",
       "    </tr>\n",
       "    <tr>\n",
       "      <th>157</th>\n",
       "      <td>NaN</td>\n",
       "      <td>newCar</td>\n",
       "      <td>NaN</td>\n",
       "      <td>NaN</td>\n",
       "      <td>NaN</td>\n",
       "      <td>21.50</td>\n",
       "      <td>1.5</td>\n",
       "      <td>76.0</td>\n",
       "      <td>106.3</td>\n",
       "      <td>67.9</td>\n",
       "      <td>175.0</td>\n",
       "      <td>2.932</td>\n",
       "      <td>11.9</td>\n",
       "      <td>46.0</td>\n",
       "      <td>NaN</td>\n",
       "      <td>1.0</td>\n",
       "    </tr>\n",
       "    <tr>\n",
       "      <th>158</th>\n",
       "      <td>NaN</td>\n",
       "      <td>newTruck</td>\n",
       "      <td>NaN</td>\n",
       "      <td>NaN</td>\n",
       "      <td>NaN</td>\n",
       "      <td>34.20</td>\n",
       "      <td>3.5</td>\n",
       "      <td>167.0</td>\n",
       "      <td>109.8</td>\n",
       "      <td>75.2</td>\n",
       "      <td>188.4</td>\n",
       "      <td>4.508</td>\n",
       "      <td>17.2</td>\n",
       "      <td>26.0</td>\n",
       "      <td>NaN</td>\n",
       "      <td>1.0</td>\n",
       "    </tr>\n",
       "  </tbody>\n",
       "</table>\n",
       "<p>159 rows × 16 columns</p>\n",
       "</div>"
      ],
      "text/plain": [
       "    manufact     model   sales  resale  type  price  engine_s  horsepow  \\\n",
       "0      Acura   Integra  16.919  16.360   0.0  21.50       1.8     140.0   \n",
       "1      Acura        TL  39.384  19.875   0.0  28.40       3.2     225.0   \n",
       "2      Acura        CL  14.114  18.225   0.0    NaN       3.2     225.0   \n",
       "3      Acura        RL   8.588  29.725   0.0  42.00       3.5     210.0   \n",
       "4       Audi        A4  20.397  22.255   0.0  23.99       1.8     150.0   \n",
       "..       ...       ...     ...     ...   ...    ...       ...       ...   \n",
       "154    Volvo       V70  17.531     NaN   0.0  28.80       2.4     168.0   \n",
       "155    Volvo       C70   3.493     NaN   0.0  45.50       2.3     236.0   \n",
       "156    Volvo       S80  18.969     NaN   0.0  36.00       2.9     201.0   \n",
       "157      NaN    newCar     NaN     NaN   NaN  21.50       1.5      76.0   \n",
       "158      NaN  newTruck     NaN     NaN   NaN  34.20       3.5     167.0   \n",
       "\n",
       "     wheelbas  width  length  curb_wgt  fuel_cap   mpg  lnsales  partition  \n",
       "0       101.2   67.3   172.4     2.639      13.2  28.0    2.828        0.0  \n",
       "1       108.1   70.3   192.9     3.517      17.2  25.0    3.673        0.0  \n",
       "2       106.9   70.6   192.0     3.470      17.2  26.0    2.647        0.0  \n",
       "3       114.6   71.4   196.6     3.850      18.0  22.0    2.150        0.0  \n",
       "4       102.6   68.2   178.0     2.998      16.4  27.0    3.015        0.0  \n",
       "..        ...    ...     ...       ...       ...   ...      ...        ...  \n",
       "154     104.9   69.3   186.2     3.259      17.9  25.0    2.864        0.0  \n",
       "155     104.9   71.5   185.7     3.601      18.5  23.0    1.251        0.0  \n",
       "156     109.9   72.1   189.8     3.600      21.1  24.0    2.943        0.0  \n",
       "157     106.3   67.9   175.0     2.932      11.9  46.0      NaN        1.0  \n",
       "158     109.8   75.2   188.4     4.508      17.2  26.0      NaN        1.0  \n",
       "\n",
       "[159 rows x 16 columns]"
      ]
     },
     "execution_count": 4,
     "metadata": {},
     "output_type": "execute_result"
    }
   ],
   "source": [
    "data_frame"
   ]
  },
  {
   "cell_type": "code",
   "execution_count": 5,
   "metadata": {},
   "outputs": [
    {
     "data": {
      "text/plain": [
       "<Axes: >"
      ]
     },
     "execution_count": 5,
     "metadata": {},
     "output_type": "execute_result"
    },
    {
     "data": {
      "image/png": "[encoded data removed]",
      "text/plain": [
       "<Figure size 2500x1000 with 2 Axes>"
      ]
     },
     "metadata": {},
     "output_type": "display_data"
    }
   ],
   "source": [
    "msno.matrix(data_frame)"
   ]
  },
  {
   "cell_type": "markdown",
   "metadata": {},
   "source": [
    "### Checkear duplicados"
   ]
  },
  {
   "cell_type": "code",
   "execution_count": 7,
   "metadata": {},
   "outputs": [
    {
     "data": {
      "text/plain": [
       "0"
      ]
     },
     "execution_count": 7,
     "metadata": {},
     "output_type": "execute_result"
    }
   ],
   "source": [
    "data_frame.duplicated().sum()"
   ]
  },
  {
   "cell_type": "markdown",
   "metadata": {},
   "source": [
    "### Integridad de nullidad"
   ]
  },
  {
   "cell_type": "code",
   "execution_count": 8,
   "metadata": {},
   "outputs": [
    {
     "data": {
      "text/plain": [
       "manufact      2\n",
       "model         0\n",
       "sales         2\n",
       "resale       38\n",
       "type          2\n",
       "price         2\n",
       "engine_s      1\n",
       "horsepow      1\n",
       "wheelbas      1\n",
       "width         1\n",
       "length        1\n",
       "curb_wgt      2\n",
       "fuel_cap      1\n",
       "mpg           3\n",
       "lnsales       2\n",
       "partition     0\n",
       "dtype: int64"
      ]
     },
     "execution_count": 8,
     "metadata": {},
     "output_type": "execute_result"
    }
   ],
   "source": [
    "data_frame.isnull().sum()"
   ]
  },
  {
   "cell_type": "code",
   "execution_count": 9,
   "metadata": {},
   "outputs": [
    {
     "name": "stdout",
     "output_type": "stream",
     "text": [
      "<class 'pandas.core.frame.DataFrame'>\n",
      "RangeIndex: 159 entries, 0 to 158\n",
      "Data columns (total 16 columns):\n",
      " #   Column     Non-Null Count  Dtype  \n",
      "---  ------     --------------  -----  \n",
      " 0   manufact   157 non-null    object \n",
      " 1   model      159 non-null    object \n",
      " 2   sales      157 non-null    float64\n",
      " 3   resale     121 non-null    float64\n",
      " 4   type       157 non-null    float64\n",
      " 5   price      157 non-null    float64\n",
      " 6   engine_s   158 non-null    float64\n",
      " 7   horsepow   158 non-null    float64\n",
      " 8   wheelbas   158 non-null    float64\n",
      " 9   width      158 non-null    float64\n",
      " 10  length     158 non-null    float64\n",
      " 11  curb_wgt   157 non-null    float64\n",
      " 12  fuel_cap   158 non-null    float64\n",
      " 13  mpg        156 non-null    float64\n",
      " 14  lnsales    157 non-null    float64\n",
      " 15  partition  159 non-null    float64\n",
      "dtypes: float64(14), object(2)\n",
      "memory usage: 20.0+ KB\n"
     ]
    }
   ],
   "source": [
    "data_frame.info()"
   ]
  },
  {
   "cell_type": "code",
   "execution_count": 11,
   "metadata": {},
   "outputs": [
    {
     "data": {
      "text/plain": [
       "manufact      object\n",
       "model         object\n",
       "sales        float64\n",
       "resale       float64\n",
       "type         float64\n",
       "price        float64\n",
       "engine_s     float64\n",
       "horsepow     float64\n",
       "wheelbas     float64\n",
       "width        float64\n",
       "length       float64\n",
       "curb_wgt     float64\n",
       "fuel_cap     float64\n",
       "mpg          float64\n",
       "lnsales      float64\n",
       "partition    float64\n",
       "dtype: object"
      ]
     },
     "execution_count": 11,
     "metadata": {},
     "output_type": "execute_result"
    }
   ],
   "source": [
    "data_frame.dtypes"
   ]
  },
  {
   "cell_type": "code",
   "execution_count": 10,
   "metadata": {},
   "outputs": [
    {
     "data": {
      "text/plain": [
       "<bound method NDFrame.describe of     manufact     model   sales  resale  type  price  engine_s  horsepow  \\\n",
       "0      Acura   Integra  16.919  16.360   0.0  21.50       1.8     140.0   \n",
       "1      Acura        TL  39.384  19.875   0.0  28.40       3.2     225.0   \n",
       "2      Acura        CL  14.114  18.225   0.0    NaN       3.2     225.0   \n",
       "3      Acura        RL   8.588  29.725   0.0  42.00       3.5     210.0   \n",
       "4       Audi        A4  20.397  22.255   0.0  23.99       1.8     150.0   \n",
       "..       ...       ...     ...     ...   ...    ...       ...       ...   \n",
       "154    Volvo       V70  17.531     NaN   0.0  28.80       2.4     168.0   \n",
       "155    Volvo       C70   3.493     NaN   0.0  45.50       2.3     236.0   \n",
       "156    Volvo       S80  18.969     NaN   0.0  36.00       2.9     201.0   \n",
       "157      NaN    newCar     NaN     NaN   NaN  21.50       1.5      76.0   \n",
       "158      NaN  newTruck     NaN     NaN   NaN  34.20       3.5     167.0   \n",
       "\n",
       "     wheelbas  width  length  curb_wgt  fuel_cap   mpg  lnsales  partition  \n",
       "0       101.2   67.3   172.4     2.639      13.2  28.0    2.828        0.0  \n",
       "1       108.1   70.3   192.9     3.517      17.2  25.0    3.673        0.0  \n",
       "2       106.9   70.6   192.0     3.470      17.2  26.0    2.647        0.0  \n",
       "3       114.6   71.4   196.6     3.850      18.0  22.0    2.150        0.0  \n",
       "4       102.6   68.2   178.0     2.998      16.4  27.0    3.015        0.0  \n",
       "..        ...    ...     ...       ...       ...   ...      ...        ...  \n",
       "154     104.9   69.3   186.2     3.259      17.9  25.0    2.864        0.0  \n",
       "155     104.9   71.5   185.7     3.601      18.5  23.0    1.251        0.0  \n",
       "156     109.9   72.1   189.8     3.600      21.1  24.0    2.943        0.0  \n",
       "157     106.3   67.9   175.0     2.932      11.9  46.0      NaN        1.0  \n",
       "158     109.8   75.2   188.4     4.508      17.2  26.0      NaN        1.0  \n",
       "\n",
       "[159 rows x 16 columns]>"
      ]
     },
     "execution_count": 10,
     "metadata": {},
     "output_type": "execute_result"
    }
   ],
   "source": [
    "data_frame.describe"
   ]
  },
  {
   "cell_type": "code",
   "execution_count": 13,
   "metadata": {},
   "outputs": [
    {
     "data": {
      "text/plain": [
       "manufact\n",
       "Ford             11\n",
       "Dodge            11\n",
       "Chevrolet         9\n",
       "Mercedes-Benz     9\n",
       "Toyota            9\n",
       "Chrysler          7\n",
       "Mitsubishi        7\n",
       "Nissan            7\n",
       "Mercury           6\n",
       "Oldsmobile        6\n",
       "Lexus             6\n",
       "Pontiac           6\n",
       "Volvo             6\n",
       "Volkswagen        6\n",
       "Cadillac          5\n",
       "Honda             5\n",
       "Saturn            5\n",
       "Plymouth          4\n",
       "Buick             4\n",
       "Acura             4\n",
       "Audi              3\n",
       "BMW               3\n",
       "Lincoln           3\n",
       "Porsche           3\n",
       "Jeep              3\n",
       "Hyundai           3\n",
       "Saab              2\n",
       "Subaru            2\n",
       "Jaguar            1\n",
       "Infiniti          1\n",
       "Name: count, dtype: int64"
      ]
     },
     "execution_count": 13,
     "metadata": {},
     "output_type": "execute_result"
    }
   ],
   "source": [
    "data_frame['manufact'].value_counts()"
   ]
  },
  {
   "cell_type": "code",
   "execution_count": 14,
   "metadata": {},
   "outputs": [
    {
     "data": {
      "text/plain": [
       "<Axes: title={'center': 'Primeros 10 manufactureros'}, xlabel='Manufacturero', ylabel='Frecuencia'>"
      ]
     },
     "execution_count": 14,
     "metadata": {},
     "output_type": "execute_result"
    },
    {
     "data": {
      "image/png": "[encoded data removed]",
      "text/plain": [
       "<Figure size 640x480 with 1 Axes>"
      ]
     },
     "metadata": {},
     "output_type": "display_data"
    }
   ],
   "source": [
    "(\n",
    "data_frame['manufact']\n",
    ".value_counts()[0:10]\n",
    ".plot(kind='bar', xlabel='Manufacturero',ylabel='Frecuencia',\n",
    "                                         title='Primeros 10 manufactureros')\n",
    ")"
   ]
  },
  {
   "cell_type": "code",
   "execution_count": 15,
   "metadata": {},
   "outputs": [
    {
     "data": {
      "text/plain": [
       "manufact  model      \n",
       "Volvo     V70            1\n",
       "Acura     CL             1\n",
       "          Integra        1\n",
       "          RL             1\n",
       "          TL             1\n",
       "                        ..\n",
       "BMW       328i           1\n",
       "          528i           1\n",
       "Buick     Century        1\n",
       "          LeSabre        1\n",
       "          Park Avenue    1\n",
       "Name: count, Length: 157, dtype: int64"
      ]
     },
     "execution_count": 15,
     "metadata": {},
     "output_type": "execute_result"
    }
   ],
   "source": [
    "data_frame[['manufact','model']].value_counts()\n"
   ]
  }
 ],
 "metadata": {
  "kernelspec": {
   "display_name": "Python 3",
   "language": "python",
   "name": "python3"
  },
  "language_info": {
   "codemirror_mode": {
    "name": "ipython",
    "version": 3
   },
   "file_extension": ".py",
   "mimetype": "text/x-python",
   "name": "python",
   "nbconvert_exporter": "python",
   "pygments_lexer": "ipython3",
   "version": "3.10.13"
  }
 },
 "nbformat": 4,
 "nbformat_minor": 2
}
